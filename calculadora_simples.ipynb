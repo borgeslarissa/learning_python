{
  "nbformat": 4,
  "nbformat_minor": 0,
  "metadata": {
    "colab": {
      "name": "calculadora_simples.ipynb",
      "provenance": [],
      "authorship_tag": "ABX9TyPF2EHa+QVEfOPotzc3QGjp",
      "include_colab_link": true
    },
    "kernelspec": {
      "name": "python3",
      "display_name": "Python 3"
    },
    "language_info": {
      "name": "python"
    }
  },
  "cells": [
    {
      "cell_type": "markdown",
      "metadata": {
        "id": "view-in-github",
        "colab_type": "text"
      },
      "source": [
        "<a href=\"https://colab.research.google.com/github/borgeslarissa/learning_python/blob/main/calculadora_simples.ipynb\" target=\"_parent\"><img src=\"https://colab.research.google.com/assets/colab-badge.svg\" alt=\"Open In Colab\"/></a>"
      ]
    },
    {
      "cell_type": "code",
      "source": [
        "number1 = 0\n",
        "number2 = 0\n",
        "resul = 0\n",
        "operacao = ''"
      ],
      "metadata": {
        "id": "e68kdODg11ZK"
      },
      "execution_count": null,
      "outputs": []
    },
    {
      "cell_type": "code",
      "source": [
        "number1 = int(input(\"Digite o primeiro numero:\"))\n",
        "operacao = input('Digite a operação que deseja realizar:')\n",
        "number2 = int(input('Digite o segundo numero:'))\n",
        "\n",
        "if operacao ==\"+\":\n",
        "  result = number1 + number2\n",
        "elif operacao == \"-\":\n",
        "  result = number1 - number2\n",
        "elif operacao == \"/\":\n",
        "  result = number1 / number2\n",
        "elif operacao == \"*\":\n",
        "  result = number1 * number2\n",
        "else:\n",
        "  result = 'Operação invalida'\n",
        "print( str(number1) + '' + str(operacao) +'' + str(number2) +'' + \"=\" + str(result) )"
      ],
      "metadata": {
        "colab": {
          "base_uri": "https://localhost:8080/"
        },
        "id": "w8b6afMM22RF",
        "outputId": "42f9a569-c6f1-421a-a0c5-c7347f4b2bfe"
      },
      "execution_count": null,
      "outputs": [
        {
          "output_type": "stream",
          "name": "stdout",
          "text": [
            "Digite o primeiro numero:8\n",
            "Digite a operação que deseja realizar:*\n",
            "Digite o segundo numero:5\n",
            "8*5=40\n"
          ]
        }
      ]
    },
    {
      "cell_type": "code",
      "source": [
        ""
      ],
      "metadata": {
        "id": "qM_BwiOk3LwI"
      },
      "execution_count": null,
      "outputs": []
    }
  ]
}