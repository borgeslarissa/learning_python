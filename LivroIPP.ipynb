{
  "nbformat": 4,
  "nbformat_minor": 0,
  "metadata": {
    "colab": {
      "name": "LivroIPP.ipynb",
      "provenance": [],
      "collapsed_sections": [
        "zULmM2jK6HPB",
        "cVdNJhpi5S5h",
        "A0tgyisPDQzj",
        "HzL4bcN6GENT"
      ],
      "authorship_tag": "ABX9TyOPahBmVtEC3ZY4B6r2dhrg",
      "include_colab_link": true
    },
    "kernelspec": {
      "name": "python3",
      "display_name": "Python 3"
    },
    "language_info": {
      "name": "python"
    }
  },
  "cells": [
    {
      "cell_type": "markdown",
      "metadata": {
        "id": "view-in-github",
        "colab_type": "text"
      },
      "source": [
        "<a href=\"https://colab.research.google.com/github/borgeslarissa/learning_python/blob/main/LivroIPP.ipynb\" target=\"_parent\"><img src=\"https://colab.research.google.com/assets/colab-badge.svg\" alt=\"Open In Colab\"/></a>"
      ]
    },
    {
      "cell_type": "markdown",
      "source": [
        "# Livro Introdução a programação com python (respostas dos exercicios)"
      ],
      "metadata": {
        "id": "u7x88n8nyB3T"
      }
    },
    {
      "cell_type": "markdown",
      "source": [
        "Sou novata na area de dados, no inicio do livro não possuia nenhum conhecimento na area\n",
        "\n",
        "> Data de inicio da leitura: 02/01/2022\n",
        "\n",
        "\n",
        "\n",
        "\n",
        "\n"
      ],
      "metadata": {
        "id": "irVPu2nx9M7D"
      }
    },
    {
      "cell_type": "code",
      "source": [
        "import pandas as pd"
      ],
      "metadata": {
        "id": "oKjDzvXZAUQ1"
      },
      "execution_count": null,
      "outputs": []
    },
    {
      "cell_type": "markdown",
      "source": [
        "# Exercicio 2.1 e 2.2 pg 45"
      ],
      "metadata": {
        "id": "zULmM2jK6HPB"
      }
    },
    {
      "cell_type": "code",
      "source": [
        "ex_2a= 10 + (20*30)\n",
        "print(ex_2a)"
      ],
      "metadata": {
        "colab": {
          "base_uri": "https://localhost:8080/"
        },
        "id": "W3mMYhCo_7-k",
        "outputId": "0770cbb1-1e3f-4bc7-e4ae-f6660786aab6"
      },
      "execution_count": null,
      "outputs": [
        {
          "output_type": "stream",
          "name": "stdout",
          "text": [
            "610\n"
          ]
        }
      ]
    },
    {
      "cell_type": "code",
      "source": [
        "ex_2b = (4**2) /30\n",
        "print(ex_2b)"
      ],
      "metadata": {
        "colab": {
          "base_uri": "https://localhost:8080/"
        },
        "id": "XOlOwOxaAyVh",
        "outputId": "262adbe1-a502-4369-885b-63787ee46f35"
      },
      "execution_count": null,
      "outputs": [
        {
          "output_type": "stream",
          "name": "stdout",
          "text": [
            "0.5333333333333333\n"
          ]
        }
      ]
    },
    {
      "cell_type": "code",
      "source": [
        "ex_2c =(9**4 +2)* (6+1)\n",
        "print(ex_2c)"
      ],
      "metadata": {
        "colab": {
          "base_uri": "https://localhost:8080/"
        },
        "id": "Mb_ift-EAzw1",
        "outputId": "ffe68c54-b024-4140-cd16-80af12d67381"
      },
      "execution_count": null,
      "outputs": [
        {
          "output_type": "stream",
          "name": "stdout",
          "text": [
            "45941\n"
          ]
        }
      ]
    },
    {
      "cell_type": "code",
      "source": [
        "#Exercicio 2.2 Digite a seguinte expressao no interpretador\n",
        "# 10 % 3 * 10 ** 2 + 1 - 10 * 4 / 2\n",
        "\n",
        "\n",
        "ex_22= (10 % 3) * (10 ** 2) + 1 - ((10 * 4) / 2)\n",
        "print(ex_22)"
      ],
      "metadata": {
        "colab": {
          "base_uri": "https://localhost:8080/"
        },
        "id": "z6kmf9VnBDPv",
        "outputId": "04632672-7123-4159-aeb3-2eae813f853f"
      },
      "execution_count": null,
      "outputs": [
        {
          "output_type": "stream",
          "name": "stdout",
          "text": [
            "81.0\n"
          ]
        }
      ]
    },
    {
      "cell_type": "markdown",
      "source": [
        "# Exercicio 2.3 a 2.6 pg 49\n",
        "\n",
        "\n"
      ],
      "metadata": {
        "id": "iB9MXAGeyF4X"
      }
    },
    {
      "cell_type": "code",
      "execution_count": null,
      "metadata": {
        "colab": {
          "base_uri": "https://localhost:8080/"
        },
        "id": "9ozwChz8x9z_",
        "outputId": "8b60d83d-e256-4b54-b7b8-2b9c4e4a737d"
      },
      "outputs": [
        {
          "output_type": "stream",
          "name": "stdout",
          "text": [
            "larissa\n"
          ]
        }
      ],
      "source": [
        "#Exercicio 2.3\n",
        "#Faça um programa que exiga seu nome na tela\n",
        "nome_ex2 = 'larissa';\n",
        "print(nome_ex2)"
      ]
    },
    {
      "cell_type": "code",
      "source": [
        "#Exercicio 2.4\n",
        "#Escreva um programa que exiba o resultado de 2a x3b, em que avale 3 e b vale 5\n",
        "a_ex24=3\n",
        "b_ex24=5\n",
        "print((2*a_1) * (3*b_1))"
      ],
      "metadata": {
        "colab": {
          "base_uri": "https://localhost:8080/",
          "height": 208
        },
        "id": "oaH_UTYOyJ2K",
        "outputId": "70a7d3b9-fa62-4b56-91da-de60d88148a5"
      },
      "execution_count": null,
      "outputs": [
        {
          "output_type": "error",
          "ename": "NameError",
          "evalue": "ignored",
          "traceback": [
            "\u001b[0;31m---------------------------------------------------------------------------\u001b[0m",
            "\u001b[0;31mNameError\u001b[0m                                 Traceback (most recent call last)",
            "\u001b[0;32m<ipython-input-7-248b1cf6a7b6>\u001b[0m in \u001b[0;36m<module>\u001b[0;34m()\u001b[0m\n\u001b[1;32m      3\u001b[0m \u001b[0ma_ex24\u001b[0m\u001b[0;34m=\u001b[0m\u001b[0;36m3\u001b[0m\u001b[0;34m\u001b[0m\u001b[0;34m\u001b[0m\u001b[0m\n\u001b[1;32m      4\u001b[0m \u001b[0mb_ex24\u001b[0m\u001b[0;34m=\u001b[0m\u001b[0;36m5\u001b[0m\u001b[0;34m\u001b[0m\u001b[0;34m\u001b[0m\u001b[0m\n\u001b[0;32m----> 5\u001b[0;31m \u001b[0mprint\u001b[0m\u001b[0;34m(\u001b[0m\u001b[0;34m(\u001b[0m\u001b[0;36m2\u001b[0m\u001b[0;34m*\u001b[0m\u001b[0ma_1\u001b[0m\u001b[0;34m)\u001b[0m \u001b[0;34m*\u001b[0m \u001b[0;34m(\u001b[0m\u001b[0;36m3\u001b[0m\u001b[0;34m*\u001b[0m\u001b[0mb_1\u001b[0m\u001b[0;34m)\u001b[0m\u001b[0;34m)\u001b[0m\u001b[0;34m\u001b[0m\u001b[0;34m\u001b[0m\u001b[0m\n\u001b[0m",
            "\u001b[0;31mNameError\u001b[0m: name 'a_1' is not defined"
          ]
        }
      ]
    },
    {
      "cell_type": "code",
      "source": [
        "#Exercicio 2.5\n",
        "#Escreva um programa que calcule a soma de três variaives e imprima o resultado na tela\n",
        "var_ex25= (2+5+6)\n",
        "print(var_ex25)"
      ],
      "metadata": {
        "id": "uhrG0gAvy5Zy"
      },
      "execution_count": null,
      "outputs": []
    },
    {
      "cell_type": "code",
      "source": [
        "#Exercicio 2.6\n",
        "#Modiqfique o programa2.2, de forma que ele calcule um aumento de 15% para um salario de R$750,00\n",
        "#programa 2.2 calculo de aumento de salario\n",
        "#salario = 1500\n",
        "#aumento = 5\n",
        "#print(salario = (salario * aumento/100))\n",
        "\n",
        "#Programa2.2 versao atividade\n",
        "salario_ex26 = 750\n",
        "aumento_ex26= 15\n",
        "print(salario_ex26 + (salario_ex26*aumento_ex26/100))"
      ],
      "metadata": {
        "id": "HZmImiJSzEjA"
      },
      "execution_count": null,
      "outputs": []
    },
    {
      "cell_type": "markdown",
      "source": [
        "# Exercicio 3.2 pg 56"
      ],
      "metadata": {
        "id": "cVdNJhpi5S5h"
      }
    },
    {
      "cell_type": "code",
      "source": [
        "#Exercicio 3.2\n",
        "# Considerando a tabela de dados abaixo\n",
        "ex3_a=4\n",
        "ex3_b=10\n",
        "ex3_c=5.0\n",
        "ex3_d=1\n",
        "ex3_f=5"
      ],
      "metadata": {
        "id": "qPOjnL7m4j37"
      },
      "execution_count": null,
      "outputs": []
    },
    {
      "cell_type": "code",
      "source": [
        "ex3_a == ex3_c"
      ],
      "metadata": {
        "id": "Wq6KbGi55DKD"
      },
      "execution_count": null,
      "outputs": []
    },
    {
      "cell_type": "code",
      "source": [
        "ex3_a < ex3_b"
      ],
      "metadata": {
        "id": "fvfD4ZNj5ErE"
      },
      "execution_count": null,
      "outputs": []
    },
    {
      "cell_type": "code",
      "source": [
        "ex3_d > ex3_b"
      ],
      "metadata": {
        "id": "eM4PZ1j_5GIM"
      },
      "execution_count": null,
      "outputs": []
    },
    {
      "cell_type": "code",
      "source": [
        "ex3_c != ex3_f"
      ],
      "metadata": {
        "id": "aRznfAJA5JEm"
      },
      "execution_count": null,
      "outputs": []
    },
    {
      "cell_type": "code",
      "source": [
        "ex3_a == ex3_f"
      ],
      "metadata": {
        "id": "27adPbQ45MEh"
      },
      "execution_count": null,
      "outputs": []
    },
    {
      "cell_type": "code",
      "source": [
        "ex3_c < ex3_d"
      ],
      "metadata": {
        "id": "AAJeAHGm5N5a"
      },
      "execution_count": null,
      "outputs": []
    },
    {
      "cell_type": "code",
      "source": [
        "ex3_b >ex3_a"
      ],
      "metadata": {
        "id": "pjnKQSDB5Y1c"
      },
      "execution_count": null,
      "outputs": []
    },
    {
      "cell_type": "code",
      "source": [
        "ex3_c >= ex3_f"
      ],
      "metadata": {
        "id": "4pbMrEPp5bCG"
      },
      "execution_count": null,
      "outputs": []
    },
    {
      "cell_type": "code",
      "source": [
        "ex3_f >= ex3_c"
      ],
      "metadata": {
        "id": "RILigF_u5cjn"
      },
      "execution_count": null,
      "outputs": []
    },
    {
      "cell_type": "code",
      "source": [
        "ex3_c <= ex3_c"
      ],
      "metadata": {
        "id": "K4ByfQzU5ffr"
      },
      "execution_count": null,
      "outputs": []
    },
    {
      "cell_type": "code",
      "source": [
        "ex3_c <= ex3_f"
      ],
      "metadata": {
        "id": "Pjz7b6i65h0q"
      },
      "execution_count": null,
      "outputs": []
    },
    {
      "cell_type": "markdown",
      "source": [
        ""
      ],
      "metadata": {
        "id": "OVmqGFsFDPin"
      }
    },
    {
      "cell_type": "markdown",
      "source": [
        "# Exercicio 3.3 pg 59"
      ],
      "metadata": {
        "id": "A0tgyisPDQzj"
      }
    },
    {
      "cell_type": "code",
      "source": [
        "#Exercicio 3.3 \n",
        "#Complete a tabela a seguir utilizando\n",
        "ex33_a= True\n",
        "ex33_b= False\n",
        "ex33_c = True"
      ],
      "metadata": {
        "id": "uFfxeuhkDUs5"
      },
      "execution_count": null,
      "outputs": []
    },
    {
      "cell_type": "code",
      "source": [
        "ex33_a and ex33_a"
      ],
      "metadata": {
        "id": "UUuaG--4Dhke"
      },
      "execution_count": null,
      "outputs": []
    },
    {
      "cell_type": "code",
      "source": [
        "ex33_b and ex33_b"
      ],
      "metadata": {
        "id": "fqoQhvk4Ec0Y"
      },
      "execution_count": null,
      "outputs": []
    },
    {
      "cell_type": "code",
      "source": [
        "not ex33_c"
      ],
      "metadata": {
        "id": "9ZDFMpj8Efe6"
      },
      "execution_count": null,
      "outputs": []
    },
    {
      "cell_type": "code",
      "source": [
        "not ex33_b"
      ],
      "metadata": {
        "id": "pze-xR78ElvC"
      },
      "execution_count": null,
      "outputs": []
    },
    {
      "cell_type": "code",
      "source": [
        "ex33_a and ex33_b"
      ],
      "metadata": {
        "id": "rmX2vuaCEoXy"
      },
      "execution_count": null,
      "outputs": []
    },
    {
      "cell_type": "code",
      "source": [
        "ex33_b and ex33_c"
      ],
      "metadata": {
        "id": "QC0tcOl4ErlZ"
      },
      "execution_count": null,
      "outputs": []
    },
    {
      "cell_type": "code",
      "source": [
        "ex33_a or ex33_c"
      ],
      "metadata": {
        "id": "t0iDBs7OEt8r"
      },
      "execution_count": null,
      "outputs": []
    },
    {
      "cell_type": "code",
      "source": [
        "ex33_b or ex33_c"
      ],
      "metadata": {
        "id": "x1JiUEeZEwbE"
      },
      "execution_count": null,
      "outputs": []
    },
    {
      "cell_type": "code",
      "source": [
        "ex33_c or ex33_a"
      ],
      "metadata": {
        "id": "zJ9UixFpEy9X"
      },
      "execution_count": null,
      "outputs": []
    },
    {
      "cell_type": "code",
      "source": [
        "ex33_c or ex33_b"
      ],
      "metadata": {
        "id": "xJShHZyhE1M6"
      },
      "execution_count": null,
      "outputs": []
    },
    {
      "cell_type": "code",
      "source": [
        "ex33_c or ex33_c"
      ],
      "metadata": {
        "id": "BmW_cFaOE3GI"
      },
      "execution_count": null,
      "outputs": []
    },
    {
      "cell_type": "code",
      "source": [
        "ex33_b or ex33_b"
      ],
      "metadata": {
        "id": "xtKAmoamE4v2"
      },
      "execution_count": null,
      "outputs": []
    },
    {
      "cell_type": "markdown",
      "source": [
        "# Exercicio 3.4 a 3.6 pg 60"
      ],
      "metadata": {
        "id": "HzL4bcN6GENT"
      }
    },
    {
      "cell_type": "code",
      "source": [
        "#Exercicio 3.4 escreva uma expressao para determinar se uma pessoa deve ou nao pagar imposto. \n",
        "#Considere que pagam imposto pessoas cujo salario é maior que R$1.200,00\n",
        "\n",
        "#salario > 1.200\n",
        "800 > 1200\n"
      ],
      "metadata": {
        "id": "C53hLd9UGIyt"
      },
      "execution_count": null,
      "outputs": []
    },
    {
      "cell_type": "code",
      "source": [
        "#Exercicio 3.5\n",
        "#Calcule o resultado da expressao A m> B and C or D, utilizando os balores da tabela a seguir\n",
        "# A  B  C      D      Resultado\n",
        "# 1  2  True   False\n",
        "# 10 3  False  False\n",
        "# 5  1  True   True"
      ],
      "metadata": {
        "id": "LY6JNpzrG3V-"
      },
      "execution_count": null,
      "outputs": []
    },
    {
      "cell_type": "code",
      "source": [
        "ex35_a1 = 1\n",
        "ex35_b1 = 2\n",
        "ex35_c1 = True\n",
        "ex35_d1= False\n",
        "ex35_a1 > ex35_b1 and ex35_c1 or ex35_d1"
      ],
      "metadata": {
        "id": "ehoLo9NHHotD"
      },
      "execution_count": null,
      "outputs": []
    },
    {
      "cell_type": "code",
      "source": [
        "ex35_a2 = 10\n",
        "ex35_b2 = 3\n",
        "ex35_c2 = False\n",
        "ex35_d2= False\n",
        "ex35_a2 > ex35_b2 and ex35_c2 or ex35_d2"
      ],
      "metadata": {
        "id": "75Sit8AMH_Ia"
      },
      "execution_count": null,
      "outputs": []
    },
    {
      "cell_type": "code",
      "source": [
        "ex35_a3 = 5\n",
        "ex35_b3 = 1\n",
        "ex35_c3 = True\n",
        "ex35_d3= True\n",
        "ex35_a3 > ex35_b3 and ex35_c3 or ex35_d3"
      ],
      "metadata": {
        "id": "G6pzdNX9IJ7F"
      },
      "execution_count": null,
      "outputs": []
    },
    {
      "cell_type": "code",
      "source": [
        "#Exercicio 3.6\n",
        "#Escreva uumam experessao que sera utilizada para decidir se um aluno foi ou nao aprovado. \n",
        "#Para ser aprovado, todas as medias do aluno devem ser maiores que 7. \n",
        "#Considere que o aluno cursa apenas três materias, e que a nota de cada uma esta armazenada nas seguintes variaveis\n",
        "#materia1, materia2 e materia3\n",
        "materia1= 8\n",
        "materia2= 6\n",
        "materia3= 9\n",
        "materia1 >= 7 and materia2 >= 7 and materia3 >= 7"
      ],
      "metadata": {
        "id": "-_k-LaMDIUWu"
      },
      "execution_count": null,
      "outputs": []
    },
    {
      "cell_type": "markdown",
      "source": [
        "# Exercicio 3.7 a 3.15 pg 72"
      ],
      "metadata": {
        "id": "Bm9H0EGioOO7"
      }
    },
    {
      "cell_type": "code",
      "source": [
        "#Exercicio 3.7 Faça um programa que peça dois números inteiros. Imprima a soma desses dois numeros na tela\n",
        "\n",
        "saldo = int(input(\"Qual seu saldo no banco?\"))\n",
        "salario = int(input(\"Quanto você irá receber esse mes?\"))\n",
        "soma = saldo + salario\n",
        "print(\"Seu saldo para o próximo mês será de:\")\n",
        "print(soma)\n",
        "\n"
      ],
      "metadata": {
        "colab": {
          "base_uri": "https://localhost:8080/"
        },
        "id": "d29uaRySoSa_",
        "outputId": "10bc23e0-f1f7-41d8-efb3-56c444d0dae4"
      },
      "execution_count": null,
      "outputs": [
        {
          "output_type": "stream",
          "name": "stdout",
          "text": [
            "Qual seu saldo no banco?58\n",
            "Quanto você irá receber esse mes?156\n",
            "Seu saldo para o próximo mês será de:\n",
            "214\n"
          ]
        }
      ]
    },
    {
      "cell_type": "code",
      "source": [
        "#Escreva um programa quel eia um valor em metros e o exiba convertido em milimetros\n",
        "\n",
        "tamanho= float(input(\"Que tal descobrir sua altura em milimetros? Para isso basta colocar sua altura usando o ponto \"))\n",
        "conv = tamanho * 1000\n",
        "print( \"sua altura em milimetros é de:\")\n",
        "print(conv)"
      ],
      "metadata": {
        "colab": {
          "base_uri": "https://localhost:8080/"
        },
        "id": "qLBjZFOqpR3M",
        "outputId": "97df83e9-209c-4a9f-abe7-5b2e68c2e692"
      },
      "execution_count": null,
      "outputs": [
        {
          "output_type": "stream",
          "name": "stdout",
          "text": [
            "Que tal descobrir sua altura em milimetros? Para isso basta colocar sua altura usando o ponto 1.801\n",
            "sua altura em milimetros é de:\n",
            "1801.0\n"
          ]
        }
      ]
    },
    {
      "cell_type": "code",
      "source": [
        "#Exercicio 3.9 Escreva um programa que leia a quantidade de dias, horas, minutos e segundos do usuario. Caclule o total em segundos.\n"
      ],
      "metadata": {
        "id": "uKtdzV2hsYmq"
      },
      "execution_count": null,
      "outputs": []
    }
  ]
}